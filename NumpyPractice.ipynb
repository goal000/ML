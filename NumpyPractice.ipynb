{
  "nbformat": 4,
  "nbformat_minor": 0,
  "metadata": {
    "colab": {
      "provenance": []
    },
    "kernelspec": {
      "name": "python3",
      "display_name": "Python 3"
    },
    "language_info": {
      "name": "python"
    }
  },
  "cells": [
    {
      "cell_type": "markdown",
      "source": [
        "**WORKING WITH NUMPY**"
      ],
      "metadata": {
        "id": "KOucTuO_7Rhn"
      }
    },
    {
      "cell_type": "code",
      "execution_count": null,
      "metadata": {
        "id": "Cavp0Yoz6kR4",
        "colab": {
          "base_uri": "https://localhost:8080/"
        },
        "outputId": "75acf2ea-dd2e-497d-d244-36b94a48fa12"
      },
      "outputs": [
        {
          "output_type": "stream",
          "name": "stdout",
          "text": [
            "[1 2 3 4 5]\n"
          ]
        }
      ],
      "source": [
        "import numpy as np\n",
        "a=np.array([1,2,3,4,5])\n",
        "print(a)"
      ]
    },
    {
      "cell_type": "markdown",
      "source": [
        "For more than one dimension"
      ],
      "metadata": {
        "id": "Jhr41-wECqeY"
      }
    },
    {
      "cell_type": "code",
      "source": [
        "a = np.array([[1,2],[3,4]])\n",
        "print(a)"
      ],
      "metadata": {
        "colab": {
          "base_uri": "https://localhost:8080/"
        },
        "id": "pS1PzB-zCo6q",
        "outputId": "ca24d82c-9197-48b9-919e-52909704757b"
      },
      "execution_count": null,
      "outputs": [
        {
          "output_type": "stream",
          "name": "stdout",
          "text": [
            "[[1 2]\n",
            " [3 4]]\n"
          ]
        }
      ]
    },
    {
      "cell_type": "code",
      "source": [
        "a = np.array([1,2,3,4], ndmin=2)\n",
        "print(a)"
      ],
      "metadata": {
        "colab": {
          "base_uri": "https://localhost:8080/"
        },
        "id": "p-yTKnUmDPhG",
        "outputId": "4417aaec-9c4e-49b7-f0cf-d93e9633ded0"
      },
      "execution_count": null,
      "outputs": [
        {
          "output_type": "stream",
          "name": "stdout",
          "text": [
            "[[1 2 3 4]]\n"
          ]
        }
      ]
    },
    {
      "cell_type": "markdown",
      "source": [
        "Following examples shows the use of structural data type"
      ],
      "metadata": {
        "id": "dHQpw3QDDgti"
      }
    },
    {
      "cell_type": "code",
      "source": [
        "import numpy as np\n",
        "dt = np.dtype([('age',np.int8)])\n",
        "print(dt)"
      ],
      "metadata": {
        "colab": {
          "base_uri": "https://localhost:8080/"
        },
        "id": "WiROE5YdDq06",
        "outputId": "6ecc0c45-3efd-4414-c898-baba38dd56c9"
      },
      "execution_count": null,
      "outputs": [
        {
          "output_type": "stream",
          "name": "stdout",
          "text": [
            "[('age', 'i1')]\n"
          ]
        }
      ]
    },
    {
      "cell_type": "code",
      "source": [
        "dt = np.dtype([('age',np.int8)])\n",
        "a = np.array([(10,),(20,),(30,)],dtype=dt)\n",
        "print(a)"
      ],
      "metadata": {
        "colab": {
          "base_uri": "https://localhost:8080/"
        },
        "id": "MN6v3ZL1D1Pr",
        "outputId": "5364e82b-ce99-4034-80c9-c0459d292400"
      },
      "execution_count": null,
      "outputs": [
        {
          "output_type": "stream",
          "name": "stdout",
          "text": [
            "[(10,) (20,) (30,)]\n"
          ]
        }
      ]
    },
    {
      "cell_type": "code",
      "source": [
        "dt=np.dtype([('age',np.int8)])\n",
        "a = np.array([(10,),(20,),(30,)],dtype=dt)\n",
        "print(a['age'])"
      ],
      "metadata": {
        "colab": {
          "base_uri": "https://localhost:8080/"
        },
        "id": "qCx30GkIEZ6y",
        "outputId": "4938557e-fbc9-4a66-d007-7f132d451587"
      },
      "execution_count": null,
      "outputs": [
        {
          "output_type": "stream",
          "name": "stdout",
          "text": [
            "[10 20 30]\n"
          ]
        }
      ]
    },
    {
      "cell_type": "markdown",
      "source": [
        "**NUMPY ARRAY ATTRIBUTES**"
      ],
      "metadata": {
        "id": "KfGJO4g2FVF5"
      }
    },
    {
      "cell_type": "code",
      "source": [
        "import numpy as np\n",
        "a = np.array([[1,2,3],[4,5,6]])\n",
        "print(a.shape)"
      ],
      "metadata": {
        "colab": {
          "base_uri": "https://localhost:8080/"
        },
        "id": "hekVt5ACFqw7",
        "outputId": "5c4538f1-c234-4c05-b19e-860236fe7ca8"
      },
      "execution_count": null,
      "outputs": [
        {
          "output_type": "stream",
          "name": "stdout",
          "text": [
            "(2, 3)\n"
          ]
        }
      ]
    },
    {
      "cell_type": "code",
      "source": [
        "a = np.array([[1,2,3],[4,5,6]])\n",
        "a.shape = (3,2)\n",
        "print(a)"
      ],
      "metadata": {
        "colab": {
          "base_uri": "https://localhost:8080/"
        },
        "id": "5ehLVmsHGDL9",
        "outputId": "3e9b5427-ad96-4f2a-aba6-ba8dca67f09c"
      },
      "execution_count": null,
      "outputs": [
        {
          "output_type": "stream",
          "name": "stdout",
          "text": [
            "[[1 2]\n",
            " [3 4]\n",
            " [5 6]]\n"
          ]
        }
      ]
    },
    {
      "cell_type": "code",
      "source": [
        "a = np.arange(4)\n",
        "print(a)\n",
        "print(a.ndim)"
      ],
      "metadata": {
        "colab": {
          "base_uri": "https://localhost:8080/"
        },
        "id": "JbG92rJcGL2m",
        "outputId": "0f9b1a8d-dff6-49d8-b30b-5790a0a6424c"
      },
      "execution_count": null,
      "outputs": [
        {
          "output_type": "stream",
          "name": "stdout",
          "text": [
            "[0 1 2 3]\n",
            "1\n"
          ]
        }
      ]
    },
    {
      "cell_type": "code",
      "source": [
        "a = np.empty([3,2],dtype=int)\n",
        "print(a)"
      ],
      "metadata": {
        "colab": {
          "base_uri": "https://localhost:8080/"
        },
        "id": "lwpXHtZnGXGu",
        "outputId": "85ccc38e-e412-4eaf-e3e5-b1467687c5a5"
      },
      "execution_count": null,
      "outputs": [
        {
          "output_type": "stream",
          "name": "stdout",
          "text": [
            "[[1 2]\n",
            " [3 4]\n",
            " [5 6]]\n"
          ]
        }
      ]
    },
    {
      "cell_type": "code",
      "source": [
        "a = np.ones([3,2],dtype=float,order='c')\n",
        "print(a)"
      ],
      "metadata": {
        "colab": {
          "base_uri": "https://localhost:8080/"
        },
        "id": "lp7dEgIlGn9I",
        "outputId": "27d60510-f494-406a-82f2-7b25d6d87512"
      },
      "execution_count": null,
      "outputs": [
        {
          "output_type": "stream",
          "name": "stdout",
          "text": [
            "[[1. 1.]\n",
            " [1. 1.]\n",
            " [1. 1.]]\n"
          ]
        }
      ]
    },
    {
      "cell_type": "markdown",
      "source": [
        "**INSPECTING ARRAY**"
      ],
      "metadata": {
        "id": "RDcElP0pHtJp"
      }
    },
    {
      "cell_type": "code",
      "source": [
        "a = np.array([[1,2],[3,4]])\n",
        "\n",
        "print(a)\n",
        "print(a.shape)\n",
        "print(len(a))\n",
        "print(a.ndim)\n",
        "print(a.size)\n",
        "print(a.dtype)"
      ],
      "metadata": {
        "colab": {
          "base_uri": "https://localhost:8080/"
        },
        "id": "eeE8deD4Hsxy",
        "outputId": "b2d061b9-537a-4ddc-881c-f3f6ac57680b"
      },
      "execution_count": null,
      "outputs": [
        {
          "output_type": "stream",
          "name": "stdout",
          "text": [
            "[[1 2]\n",
            " [3 4]]\n",
            "(2, 2)\n",
            "2\n",
            "2\n",
            "4\n",
            "int64\n"
          ]
        }
      ]
    },
    {
      "cell_type": "markdown",
      "source": [
        "**AGGREGRATE FUNCTIONS**"
      ],
      "metadata": {
        "id": "X0BtDNfiIIDX"
      }
    },
    {
      "cell_type": "code",
      "source": [
        "a = np.arange(7,dtype=int)\n",
        "\n",
        "print(np.sum(a))\n",
        "print(np.min(a))\n",
        "print(np.max(a))\n",
        "print(np.mean(a))\n",
        "print(np.median(a))"
      ],
      "metadata": {
        "colab": {
          "base_uri": "https://localhost:8080/"
        },
        "id": "s_WQpAv_IHt_",
        "outputId": "43135d7e-f9de-457a-e3d5-205fd3386505"
      },
      "execution_count": null,
      "outputs": [
        {
          "output_type": "stream",
          "name": "stdout",
          "text": [
            "21\n",
            "0\n",
            "6\n",
            "3.0\n",
            "3.0\n"
          ]
        }
      ]
    }
  ]
}